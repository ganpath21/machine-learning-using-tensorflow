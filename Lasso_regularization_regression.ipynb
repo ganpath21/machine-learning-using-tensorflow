{
  "nbformat": 4,
  "nbformat_minor": 0,
  "metadata": {
    "colab": {
      "name": "Lasso regularization regression.ipynb",
      "provenance": [],
      "collapsed_sections": [],
      "include_colab_link": true
    },
    "kernelspec": {
      "name": "python3",
      "display_name": "Python 3"
    },
    "accelerator": "GPU"
  },
  "cells": [
    {
      "cell_type": "markdown",
      "metadata": {
        "id": "view-in-github",
        "colab_type": "text"
      },
      "source": [
        "<a href=\"https://colab.research.google.com/github/ganpath21/machine-learning-using-tensorflow/blob/master/Lasso_regularization_regression.ipynb\" target=\"_parent\"><img src=\"https://colab.research.google.com/assets/colab-badge.svg\" alt=\"Open In Colab\"/></a>"
      ]
    },
    {
      "cell_type": "markdown",
      "metadata": {
        "id": "uAxgT8_2hnRw",
        "colab_type": "text"
      },
      "source": [
        "**Lasso regularization regression**"
      ]
    },
    {
      "cell_type": "code",
      "metadata": {
        "id": "g2CA_7x7DZxR",
        "colab_type": "code",
        "colab": {}
      },
      "source": [
        "import tensorflow as tf\n",
        "from sklearn import datasets as skds\n",
        "from sklearn import preprocessing as skpp\n",
        "import numpy as np\n",
        "boston = skds.load_boston()\n",
        "print(boston.DESCR)\n",
        "x = boston.data.astype(np.float32)\n",
        "y = boston.target.astype(np.float32)\n",
        "if(y.ndim == 1):\n",
        "  y = y.reshape(len(y), 1)\n",
        "x = skpp.StandardScaler().fit_transform(x)"
      ],
      "execution_count": 0,
      "outputs": []
    },
    {
      "cell_type": "code",
      "metadata": {
        "id": "7db1hR-XL7Ix",
        "colab_type": "code",
        "colab": {}
      },
      "source": [
        "from sklearn import model_selection as skms\n",
        "x_train, x_test, y_train, y_test = skms.train_test_split(x, y, test_size=0.4, random_state=123)\n",
        "print(x_train.shape)"
      ],
      "execution_count": 0,
      "outputs": []
    },
    {
      "cell_type": "code",
      "metadata": {
        "id": "wI4YU6jzMgE4",
        "colab_type": "code",
        "colab": {}
      },
      "source": [
        "num_outputs = y_train.shape[1]\n",
        "num_inputs = x_train.shape[1]\n",
        "\n",
        "x_tensor = tf.placeholder(dtype=tf.float32, shape=[None, num_inputs], name=\"x\")\n",
        "y_tensor = tf.placeholder(dtype=tf.float32, shape=[None, num_outputs], name=\"y\")\n",
        "w = tf.Variable(tf.zeros([num_inputs, num_outputs]), dtype=tf.float32, name=\"w\")\n",
        "b = tf.Variable(tf.zeros([num_outputs]), dtype=tf.float32, name=\"b\")\n",
        "\n",
        "model = tf.matmul(x_tensor, w) + b"
      ],
      "execution_count": 0,
      "outputs": []
    },
    {
      "cell_type": "code",
      "metadata": {
        "id": "uqKoKc2lTRky",
        "colab_type": "code",
        "colab": {}
      },
      "source": [
        "lasso_param = tf.Variable(0.8, dtype=tf.float32)\n",
        "lasso_loss = tf.reduce_mean(tf.abs(w)) * lasso_param"
      ],
      "execution_count": 0,
      "outputs": []
    },
    {
      "cell_type": "code",
      "metadata": {
        "id": "um9Y6OB1OR4J",
        "colab_type": "code",
        "colab": {}
      },
      "source": [
        "loss = tf.reduce_mean(tf.square(model - y_tensor)) + lasso_param\n",
        "learning_rate = 0.001\n",
        "optimizer = tf.train.GradientDescentOptimizer(learning_rate).minimize(loss)\n",
        "#mse and R2 functions\n",
        "mse = tf.reduce_mean(tf.square(model - y_tensor))\n",
        "y_mean = tf.reduce_mean(y_tensor)\n",
        "total_error = tf.reduce_sum(tf.square(y_tensor - y_mean))\n",
        "unexplained_error = tf.reduce_sum(tf.square(y_tensor - model))\n",
        "rs = 1 - tf.div(unexplained_error, total_error)"
      ],
      "execution_count": 0,
      "outputs": []
    },
    {
      "cell_type": "code",
      "metadata": {
        "id": "fEHLwNanUvX3",
        "colab_type": "code",
        "colab": {}
      },
      "source": [
        "num_epochs = 1500\n",
        "loss_epochs = np.empty(shape=[num_epochs],dtype=np.float32)\n",
        "mse_epochs = np.empty(shape=[num_epochs],dtype=np.float32)\n",
        "rs_epochs = np.empty(shape=[num_epochs],dtype=np.float32)\n",
        "\n",
        "mse_score = 0.0\n",
        "rs_score = 0.0\n",
        "\n",
        "with tf.Session() as tfs:\n",
        "  tfs.run(tf.global_variables_initializer())\n",
        "  for epoch in range(num_epochs):\n",
        "    feed_dict = {x_tensor: x_train, y_tensor: y_train}\n",
        "    loss_val,_ = tfs.run([loss, optimizer], feed_dict)\n",
        "    loss_epochs[epoch] = loss_val\n",
        "\n",
        "    feed_dict = {x_tensor: x_test, y_tensor: y_test }\n",
        "    mse_score, rs_score = tfs.run([mse,rs], feed_dict)\n",
        "    mse_epochs[epoch] = mse_score\n",
        "    rs_epochs[epoch] = rs_score\n",
        "\n",
        "print('For test data : MSE = {0:.8f}, R2 = {1:.8f} '.format(mse_score, rs_score))"
      ],
      "execution_count": 0,
      "outputs": []
    },
    {
      "cell_type": "code",
      "metadata": {
        "id": "HkouRj1fYvxw",
        "colab_type": "code",
        "colab": {}
      },
      "source": [
        "import matplotlib.pyplot as plt\n",
        "\n",
        "plt.figure(figsize=(14,8))\n",
        "\n",
        "plt.axis([0,num_epochs, 0, np.max([loss_epochs,mse_epochs]) ])\n",
        "plt.plot(loss_epochs, label='Loss on x_train')\n",
        "plt.plot(mse_epochs, label='MSE on x_test')\n",
        "plt.title('Loss in Iterations')\n",
        "plt.xlabel('# Epoch')\n",
        "plt.ylabel('Loss or MSE')\n",
        "plt.legend()\n",
        "\n",
        "plt.show()\n",
        "\n",
        "plt.figure(figsize=(14,8))\n",
        "\n",
        "plt.axis([0,num_epochs, np.min(rs_epochs), np.max(rs_epochs) ])\n",
        "plt.title('R-squared in Iterations')\n",
        "plt.plot(rs_epochs, label='R2 on x_test')\n",
        "plt.xlabel('# Epoch')\n",
        "plt.ylabel('R2')\n",
        "plt.legend()\n",
        "\n",
        "plt.show()\n"
      ],
      "execution_count": 0,
      "outputs": []
    }
  ]
}