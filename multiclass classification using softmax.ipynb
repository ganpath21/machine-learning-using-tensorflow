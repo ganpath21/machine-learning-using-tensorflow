{
  "nbformat": 4,
  "nbformat_minor": 0,
  "metadata": {
    "colab": {
      "name": "Untitled2.ipynb",
      "provenance": [],
      "private_outputs": true,
      "collapsed_sections": [],
      "authorship_tag": "ABX9TyPgXnzns8qm3esQdzt8+gxe",
      "include_colab_link": true
    },
    "kernelspec": {
      "name": "python3",
      "display_name": "Python 3"
    },
    "accelerator": "GPU"
  },
  "cells": [
    {
      "cell_type": "markdown",
      "metadata": {
        "id": "view-in-github",
        "colab_type": "text"
      },
      "source": [
        "<a href=\"https://colab.research.google.com/github/ganpath21/machine-learning-using-tensorflow/blob/master/multiclass%20classification%20using%20softmax.ipynb\" target=\"_parent\"><img src=\"https://colab.research.google.com/assets/colab-badge.svg\" alt=\"Open In Colab\"/></a>"
      ]
    },
    {
      "cell_type": "code",
      "metadata": {
        "id": "47SemRFGciCs",
        "colab_type": "code",
        "colab": {}
      },
      "source": [
        "import tensorflow as tf\n",
        "from tensorflow.examples.tutorials.mnist import input_data\n",
        "\n",
        "mnist = input_data.read_data_sets('./',one_hot=True)"
      ],
      "execution_count": 0,
      "outputs": []
    },
    {
      "cell_type": "code",
      "metadata": {
        "id": "cCV7vC3wcoS_",
        "colab_type": "code",
        "colab": {}
      },
      "source": [
        "num_inputs = 784 # since images of 28 * 28 pixels\n",
        "num_outputs = 10 # 0-9 digits"
      ],
      "execution_count": 0,
      "outputs": []
    },
    {
      "cell_type": "code",
      "metadata": {
        "id": "0q8vN98HersX",
        "colab_type": "code",
        "colab": {}
      },
      "source": [
        "learning_rate = .001\n",
        "num_epochs = 1\n",
        "batch_size = 100\n",
        "num_batches = int(mnist.train.num_examples/batch_size)\n",
        "num_batches"
      ],
      "execution_count": 0,
      "outputs": []
    },
    {
      "cell_type": "code",
      "metadata": {
        "id": "hW9fg4YYidl8",
        "colab_type": "code",
        "colab": {}
      },
      "source": [
        "#input images\n",
        "x = tf.placeholder(tf.float32, shape=[None, num_inputs], name=\"x\")\n",
        "#output images\n",
        "y = tf.placeholder(tf.float32, shape=[None, num_outputs], name=\"y\")\n",
        "\n",
        "#model parameters\n",
        "w = tf.Variable(tf.zeros([784, 10]), name=\"w\")\n",
        "b = tf.Variable(tf.zeros([10]), name=\"b\")\n",
        "model = tf.nn.softmax(tf.matmul(x,w) + b)\n",
        "\n",
        "loss = tf.reduce_mean(-tf.reduce_sum(y * tf.log(model), axis=1))\n",
        "optimizer = tf.train.GradientDescentOptimizer(learning_rate=learning_rate).minimize(loss)"
      ],
      "execution_count": 0,
      "outputs": []
    },
    {
      "cell_type": "code",
      "metadata": {
        "id": "P7AeX8PThm2a",
        "colab_type": "code",
        "colab": {}
      },
      "source": [
        "def mnist_batch_func(batch_size=100):\n",
        "    batch_x, batch_y = mnist.train.next_batch(batch_size)\n",
        "    return [batch_x, batch_y]\n",
        "\n",
        "def tensorflow_classification(num_epochs, num_batches, batch_size, batch_func, optimizer, test_x, test_y):\n",
        "    accuracy_epochs = np.empty(shape=[num_epochs], dtype=np.float32)\n",
        "    with tf.Session() as tfs:\n",
        "        tf.global_variables_initializer().run()\n",
        "        for epoch in range(num_epochs):\n",
        "            for batch in range(num_batches):\n",
        "                batch_x, batch_y = batch_func(batch_size)\n",
        "                feed_dict = {x: batch_x, y: batch_y}\n",
        "                tfs.run(optimizer, feed_dict)\n",
        "            predictions_check = tf.equal(tf.argmax(model, 1), tf.argmax(y, 1))\n",
        "            accuracy_function = tf.reduce_mean(tf.cast(predictions_check, tf.float32))\n",
        "            feed_dict = {x: test_x, y: test_y}\n",
        "            accuracy_score = tfs.run(accuracy_function, feed_dict)\n",
        "            accuracy_epochs[epoch] = accuracy_score\n",
        "            print(\"epoch {0:04d} accuracy={1:.8f}\".format(epoch, accuracy_score))\n",
        "        plt.figure(figsize=(14, 8))\n",
        "        plt.axis([0, num_epochs, np.min(accuracy_epochs), np.max(accuracy_epochs)])\n",
        "        plt.plot(accuracy_epochs, label='Accuracy Score')\n",
        "        plt.title('Accuracy over Iterations')\n",
        "        plt.xlabel('# Epoch')\n",
        "        plt.ylabel('Accuracy Score')\n",
        "        plt.legend()\n",
        "        plt.show()"
      ],
      "execution_count": 0,
      "outputs": []
    },
    {
      "cell_type": "code",
      "metadata": {
        "id": "UNFuSu4zhqzn",
        "colab_type": "code",
        "colab": {}
      },
      "source": [
        "num_epochs=30\n",
        "tensorflow_classification(num_epochs=num_epochs,\n",
        " num_batches=num_batches,\n",
        " batch_size=batch_size,\n",
        " batch_func=mnist_batch_func,\n",
        " optimizer=optimizer,\n",
        " test_x=mnist.test.images,test_y=mnist.test.labels)"
      ],
      "execution_count": 0,
      "outputs": []
    },
    {
      "cell_type": "code",
      "metadata": {
        "id": "DH_xOQ3wTF9Z",
        "colab_type": "code",
        "colab": {}
      },
      "source": [
        ""
      ],
      "execution_count": 0,
      "outputs": []
    }
  ]
}